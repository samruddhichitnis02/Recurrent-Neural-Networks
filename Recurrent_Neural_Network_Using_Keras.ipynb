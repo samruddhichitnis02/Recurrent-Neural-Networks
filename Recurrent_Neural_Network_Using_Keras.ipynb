{
 "cells": [
  {
   "cell_type": "markdown",
   "id": "7c54677c",
   "metadata": {},
   "source": [
    "### Import Required Libraries"
   ]
  },
  {
   "cell_type": "code",
   "execution_count": 1,
   "id": "b4701688",
   "metadata": {},
   "outputs": [],
   "source": [
    "import numpy as np\n",
    "from keras.models import Sequential\n",
    "from keras.layers import Dense, SimpleRNN"
   ]
  },
  {
   "cell_type": "markdown",
   "id": "7ddf7904",
   "metadata": {},
   "source": [
    "### Define the Input Sequence"
   ]
  },
  {
   "cell_type": "code",
   "execution_count": 2,
   "id": "32eb015e",
   "metadata": {},
   "outputs": [],
   "source": [
    "input_seq = np.array([[0.1], [0.2], [0.3], [0.4], [0.5], [0.6]])"
   ]
  },
  {
   "cell_type": "markdown",
   "id": "b66706e7",
   "metadata": {},
   "source": [
    "### Define the target Sequence"
   ]
  },
  {
   "cell_type": "code",
   "execution_count": 3,
   "id": "fe47fa74",
   "metadata": {},
   "outputs": [],
   "source": [
    "target_seq = np.array([[0.2], [0.3], [0.4], [0.5], [0.6], [0.7]])"
   ]
  },
  {
   "cell_type": "markdown",
   "id": "54272fc8",
   "metadata": {},
   "source": [
    "### Define the RNN Model"
   ]
  },
  {
   "cell_type": "code",
   "execution_count": 4,
   "id": "c64ca95e",
   "metadata": {},
   "outputs": [],
   "source": [
    "model = Sequential()\n",
    "model.add(SimpleRNN(units = 2, input_shape = (1, 1)))\n",
    "model.add(Dense(units = 1, activation = 'linear'))"
   ]
  },
  {
   "cell_type": "code",
   "execution_count": 5,
   "id": "4231567c",
   "metadata": {},
   "outputs": [
    {
     "name": "stdout",
     "output_type": "stream",
     "text": [
      "Model: \"sequential\"\n",
      "_________________________________________________________________\n",
      " Layer (type)                Output Shape              Param #   \n",
      "=================================================================\n",
      " simple_rnn (SimpleRNN)      (None, 2)                 8         \n",
      "                                                                 \n",
      " dense (Dense)               (None, 1)                 3         \n",
      "                                                                 \n",
      "=================================================================\n",
      "Total params: 11\n",
      "Trainable params: 11\n",
      "Non-trainable params: 0\n",
      "_________________________________________________________________\n"
     ]
    }
   ],
   "source": [
    "model.summary()"
   ]
  },
  {
   "cell_type": "markdown",
   "id": "6f2bfb5f",
   "metadata": {},
   "source": [
    "### Compile the model"
   ]
  },
  {
   "cell_type": "code",
   "execution_count": 6,
   "id": "fae4afe1",
   "metadata": {},
   "outputs": [],
   "source": [
    "model.compile(loss = 'mean_squared_error', optimizer = 'sgd')"
   ]
  },
  {
   "cell_type": "markdown",
   "id": "121be307",
   "metadata": {},
   "source": [
    "### Train the Model"
   ]
  },
  {
   "cell_type": "code",
   "execution_count": 7,
   "id": "23fdee6b",
   "metadata": {},
   "outputs": [
    {
     "name": "stdout",
     "output_type": "stream",
     "text": [
      "Epoch 1/10\n",
      "1/1 [==============================] - 2s 2s/step - loss: 0.0774\n",
      "Epoch 2/10\n",
      "1/1 [==============================] - 0s 8ms/step - loss: 0.0725\n",
      "Epoch 3/10\n",
      "1/1 [==============================] - 0s 11ms/step - loss: 0.0678\n",
      "Epoch 4/10\n",
      "1/1 [==============================] - 0s 5ms/step - loss: 0.0635\n",
      "Epoch 5/10\n",
      "1/1 [==============================] - 0s 6ms/step - loss: 0.0595\n",
      "Epoch 6/10\n",
      "1/1 [==============================] - 0s 0s/step - loss: 0.0557\n",
      "Epoch 7/10\n",
      "1/1 [==============================] - 0s 0s/step - loss: 0.0522\n",
      "Epoch 8/10\n",
      "1/1 [==============================] - 0s 592us/step - loss: 0.0490\n",
      "Epoch 9/10\n",
      "1/1 [==============================] - 0s 5ms/step - loss: 0.0459\n",
      "Epoch 10/10\n",
      "1/1 [==============================] - 0s 2ms/step - loss: 0.0431\n"
     ]
    },
    {
     "data": {
      "text/plain": [
       "<keras.callbacks.History at 0x26d86a1cc10>"
      ]
     },
     "execution_count": 7,
     "metadata": {},
     "output_type": "execute_result"
    }
   ],
   "source": [
    "model.fit(input_seq, target_seq, epochs = 10)"
   ]
  },
  {
   "cell_type": "markdown",
   "id": "d0833bae",
   "metadata": {},
   "source": [
    "### Predict the output"
   ]
  },
  {
   "cell_type": "code",
   "execution_count": 8,
   "id": "c8859b60",
   "metadata": {},
   "outputs": [
    {
     "name": "stdout",
     "output_type": "stream",
     "text": [
      "1/1 [==============================] - 0s 338ms/step\n"
     ]
    }
   ],
   "source": [
    "output = model.predict(input_seq)"
   ]
  },
  {
   "cell_type": "code",
   "execution_count": 9,
   "id": "4a456fd5",
   "metadata": {},
   "outputs": [
    {
     "data": {
      "text/plain": [
       "array([[0.12707525],\n",
       "       [0.18494643],\n",
       "       [0.24122933],\n",
       "       [0.2953554 ],\n",
       "       [0.3468541 ],\n",
       "       [0.3953641 ]], dtype=float32)"
      ]
     },
     "execution_count": 9,
     "metadata": {},
     "output_type": "execute_result"
    }
   ],
   "source": [
    "output"
   ]
  },
  {
   "cell_type": "code",
   "execution_count": null,
   "id": "24dd5353",
   "metadata": {},
   "outputs": [],
   "source": []
  }
 ],
 "metadata": {
  "kernelspec": {
   "display_name": "Python 3 (ipykernel)",
   "language": "python",
   "name": "python3"
  },
  "language_info": {
   "codemirror_mode": {
    "name": "ipython",
    "version": 3
   },
   "file_extension": ".py",
   "mimetype": "text/x-python",
   "name": "python",
   "nbconvert_exporter": "python",
   "pygments_lexer": "ipython3",
   "version": "3.9.18"
  }
 },
 "nbformat": 4,
 "nbformat_minor": 5
}
